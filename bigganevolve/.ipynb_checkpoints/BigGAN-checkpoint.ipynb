{
 "cells": [
  {
   "cell_type": "code",
   "execution_count": 5,
   "metadata": {},
   "outputs": [
    {
     "name": "stdout",
     "output_type": "stream",
     "text": [
      "[nltk_data] Downloading package wordnet to /home/joe/nltk_data...\n",
      "[nltk_data]   Package wordnet is already up-to-date!\n"
     ]
    }
   ],
   "source": [
    "import torch\n",
    "import nltk\n",
    "nltk.download('wordnet')\n",
    "from pytorch_pretrained_biggan import (BigGAN, one_hot_from_names, truncated_noise_sample,\n",
    "                                       save_as_images, display_in_terminal)\n",
    "from PIL import Image\n",
    "import time\n",
    "import numpy as np\n",
    "from tqdm import tqdm_notebook"
   ]
  },
  {
   "cell_type": "code",
   "execution_count": 2,
   "metadata": {},
   "outputs": [],
   "source": [
    "model = BigGAN.from_pretrained('biggan-deep-512')"
   ]
  },
  {
   "cell_type": "code",
   "execution_count": 3,
   "metadata": {},
   "outputs": [
    {
     "name": "stdout",
     "output_type": "stream",
     "text": [
      "True\n"
     ]
    }
   ],
   "source": [
    "print(torch.cuda.is_available())\n",
    "device = 0\n"
   ]
  },
  {
   "cell_type": "code",
   "execution_count": 120,
   "metadata": {},
   "outputs": [
    {
     "ename": "RuntimeError",
     "evalue": "CUDA error: unspecified launch failure",
     "output_type": "error",
     "traceback": [
      "\u001b[0;31m---------------------------------------------------------------------------\u001b[0m",
      "\u001b[0;31mRuntimeError\u001b[0m                              Traceback (most recent call last)",
      "\u001b[0;32m<ipython-input-120-acabd2431dd8>\u001b[0m in \u001b[0;36m<module>\u001b[0;34m()\u001b[0m\n\u001b[1;32m      9\u001b[0m     \u001b[0mclass_vector\u001b[0m \u001b[0;34m=\u001b[0m \u001b[0mtorch\u001b[0m\u001b[0;34m.\u001b[0m\u001b[0mfrom_numpy\u001b[0m\u001b[0;34m(\u001b[0m\u001b[0mclass_vector\u001b[0m\u001b[0;34m)\u001b[0m\u001b[0;34m\u001b[0m\u001b[0;34m\u001b[0m\u001b[0m\n\u001b[1;32m     10\u001b[0m \u001b[0;34m\u001b[0m\u001b[0m\n\u001b[0;32m---> 11\u001b[0;31m     \u001b[0mnoise_vector\u001b[0m \u001b[0;34m=\u001b[0m \u001b[0mnoise_vector\u001b[0m\u001b[0;34m.\u001b[0m\u001b[0mto\u001b[0m\u001b[0;34m(\u001b[0m\u001b[0mdevice\u001b[0m\u001b[0;34m)\u001b[0m\u001b[0;34m\u001b[0m\u001b[0;34m\u001b[0m\u001b[0m\n\u001b[0m\u001b[1;32m     12\u001b[0m     \u001b[0mclass_vector\u001b[0m \u001b[0;34m=\u001b[0m \u001b[0mclass_vector\u001b[0m\u001b[0;34m.\u001b[0m\u001b[0mto\u001b[0m\u001b[0;34m(\u001b[0m\u001b[0mdevice\u001b[0m\u001b[0;34m)\u001b[0m\u001b[0;34m\u001b[0m\u001b[0;34m\u001b[0m\u001b[0m\n\u001b[1;32m     13\u001b[0m     \u001b[0mmodel\u001b[0m\u001b[0;34m.\u001b[0m\u001b[0mto\u001b[0m\u001b[0;34m(\u001b[0m\u001b[0mdevice\u001b[0m\u001b[0;34m)\u001b[0m\u001b[0;34m\u001b[0m\u001b[0;34m\u001b[0m\u001b[0m\n",
      "\u001b[0;31mRuntimeError\u001b[0m: CUDA error: unspecified launch failure"
     ]
    }
   ],
   "source": [
    "for i in range(1,100):\n",
    "\n",
    "    # Prepare a input\n",
    "    truncation = 0.4\n",
    "    class_vector = np.random.choice([0,1],p=[0.99,0.01], size=(1,1000)).astype('float32')\n",
    "    noise_vector = truncated_noise_sample(truncation=truncation, batch_size=1)\n",
    "\n",
    "    noise_vector = torch.from_numpy(noise_vector)\n",
    "    class_vector = torch.from_numpy(class_vector)\n",
    "\n",
    "    noise_vector = noise_vector.to(device)\n",
    "    class_vector = class_vector.to(device)\n",
    "    model.to(device)\n",
    "\n",
    "    # Generate an image\n",
    "    with torch.no_grad():\n",
    "        output = model(noise_vector, class_vector, truncation)\n",
    "\n",
    "    # If you have a GPU put back on CPU\n",
    "    output = output.to('cpu')\n",
    "\n",
    "    save_as_images(output, str(i))\n"
   ]
  },
  {
   "cell_type": "code",
   "execution_count": 12,
   "metadata": {},
   "outputs": [],
   "source": [
    "import copy\n",
    "num = 24\n",
    "\n",
    "def interpolate(lin_noise_vector, lin_class_vector, glob_idx, num):\n",
    "    for i in range(num):\n",
    "        noise_vector = torch.from_numpy(lin_noise_vector[i])\n",
    "        class_vector = torch.from_numpy(lin_class_vector[i])\n",
    "\n",
    "        noise_vector = noise_vector.to(device)\n",
    "        class_vector = class_vector.to(device)\n",
    "\n",
    "        # Generate an image\n",
    "        with torch.no_grad():\n",
    "            output = model(noise_vector, class_vector, truncation)\n",
    "\n",
    "        # If you have a GPU put back on CPU\n",
    "        output = output.to('cpu')\n",
    "\n",
    "        save_as_images(output, './ims/' + str(glob_idx))\n",
    "        glob_idx += 1\n",
    "    return glob_idx\n",
    "\n",
    "word_list = ['jellyfish', 'volcano', 'snake', 'anemone']\n",
    "\n",
    "model.to(device)\n",
    "truncation = 0.5\n",
    "\n",
    "class_vector_prev = one_hot_from_names(word_list[np.random.randint(len(word_list))], batch_size=1).astype('float32')\n",
    "noise_vector_prev = truncated_noise_sample(truncation=truncation, batch_size=1)\n",
    "\n",
    "\n",
    "class_vector_first = copy.copy(class_vector_prev)\n",
    "noise_vector_first = copy.copy(noise_vector_prev)\n",
    "\n",
    "glob_idx = 0\n",
    "\n",
    "for i in range(5):\n",
    "    class_vector_new = one_hot_from_names(word_list[np.random.randint(len(word_list))], batch_size=1).astype('float32')\n",
    "    noise_vector_new = truncated_noise_sample(truncation=truncation, batch_size=1)\n",
    "    \n",
    "    if i==0:\n",
    "        lin_noise_vector = np.linspace(noise_vector_prev, noise_vector_new, num=int(num/2))\n",
    "        lin_class_vector = np.linspace(class_vector_prev, class_vector_new, num=int(num/2))\n",
    "\n",
    "        glob_idx = interpolate(lin_noise_vector, lin_class_vector, glob_idx, int(num/2))\n",
    "    else:\n",
    "        lin_noise_vector = np.linspace(noise_vector_prev, noise_vector_new, num=num)\n",
    "        lin_class_vector = np.linspace(class_vector_prev, class_vector_new, num=num)\n",
    "\n",
    "        glob_idx = interpolate(lin_noise_vector, lin_class_vector, glob_idx, num)\n",
    "    \n",
    "    class_vector_prev = copy.copy(class_vector_new)\n",
    "    noise_vector_prev = copy.copy(noise_vector_new)\n",
    "\n",
    "num = int(num/2) + 1\n",
    "lin_noise_vector = np.linspace(noise_vector_prev, noise_vector_first, num=num)\n",
    "lin_class_vector = np.linspace(class_vector_prev, class_vector_first, num=num)\n",
    "glob_idx = interpolate(lin_noise_vector, lin_class_vector, glob_idx , num)\n",
    "\n",
    "\n",
    "\n",
    "\n"
   ]
  },
  {
   "cell_type": "code",
   "execution_count": 75,
   "metadata": {},
   "outputs": [
    {
     "data": {
      "text/plain": [
       "array([[0.5 , 0.6 ],\n",
       "       [0.3 , 0.35],\n",
       "       [0.1 , 0.1 ]])"
      ]
     },
     "execution_count": 75,
     "metadata": {},
     "output_type": "execute_result"
    }
   ],
   "source": [
    "np.linspace([0.5, 0.6], [0.1,0.1], num=3)"
   ]
  },
  {
   "cell_type": "code",
   "execution_count": null,
   "metadata": {},
   "outputs": [],
   "source": []
  }
 ],
 "metadata": {
  "kernelspec": {
   "display_name": "Python 3",
   "language": "python",
   "name": "python3"
  },
  "language_info": {
   "codemirror_mode": {
    "name": "ipython",
    "version": 3
   },
   "file_extension": ".py",
   "mimetype": "text/x-python",
   "name": "python",
   "nbconvert_exporter": "python",
   "pygments_lexer": "ipython3",
   "version": "3.6.9"
  }
 },
 "nbformat": 4,
 "nbformat_minor": 2
}
